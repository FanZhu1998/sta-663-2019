{
 "cells": [
  {
   "cell_type": "markdown",
   "metadata": {},
   "source": [
    "**1**. \n",
    "\n",
    "Write the FizzBuzz program in C++."
   ]
  },
  {
   "cell_type": "code",
   "execution_count": 5,
   "metadata": {},
   "outputs": [
    {
     "name": "stdout",
     "output_type": "stream",
     "text": [
      "Overwriting fizzbuzz.cpp\n"
     ]
    }
   ],
   "source": [
    "%%file fizzbuzz.cpp\n",
    "\n",
    "#include <iostream>\n",
    "using std::cout;\n",
    "\n",
    "int main() {\n",
    "    for (int i=1; i<=100; i++) {\n",
    "        if ((i % 5 == 0) and (i % 3 == 0)) {\n",
    "            cout << \"FizzBuzz \";\n",
    "        }\n",
    "        else if (i % 3 == 0) {\n",
    "            cout << \"Fizz \";\n",
    "        }\n",
    "        else if (i % 5 == 0) {\n",
    "            cout << \"Buzz \";\n",
    "        }\n",
    "        else {\n",
    "            cout << i << \" \";\n",
    "        }        \n",
    "    }\n",
    "    cout << \"\\n\";\n",
    "}"
   ]
  },
  {
   "cell_type": "code",
   "execution_count": 6,
   "metadata": {},
   "outputs": [
    {
     "name": "stdout",
     "output_type": "stream",
     "text": [
      "1 2 Fizz 4 Buzz Fizz 7 8 Fizz Buzz 11 Fizz 13 14 FizzBuzz 16 17 Fizz 19 Buzz Fizz 22 23 Fizz Buzz 26 Fizz 28 29 FizzBuzz 31 32 Fizz 34 Buzz Fizz 37 38 Fizz Buzz 41 Fizz 43 44 FizzBuzz 46 47 Fizz 49 Buzz Fizz 52 53 Fizz Buzz 56 Fizz 58 59 FizzBuzz 61 62 Fizz 64 Buzz Fizz 67 68 Fizz Buzz 71 Fizz 73 74 FizzBuzz 76 77 Fizz 79 Buzz Fizz 82 83 Fizz Buzz 86 Fizz 88 89 FizzBuzz 91 92 Fizz 94 Buzz Fizz 97 98 Fizz Buzz \n"
     ]
    }
   ],
   "source": [
    "%%bash\n",
    "\n",
    "g++ fizzbuzz.cpp -o fizzbuzz.exe\n",
    "./fizzbuzz.exe"
   ]
  },
  {
   "cell_type": "markdown",
   "metadata": {},
   "source": [
    "**2**.\n",
    "\n",
    "Write a C++ program that takes a single number `n` as input on the command line and then prints the square of that number."
   ]
  },
  {
   "cell_type": "code",
   "execution_count": 7,
   "metadata": {},
   "outputs": [
    {
     "name": "stdout",
     "output_type": "stream",
     "text": [
      "Writing square.cpp\n"
     ]
    }
   ],
   "source": [
    "%%file square.cpp\n",
    "\n",
    "#include <iostream>\n",
    "\n",
    "int main() {\n",
    "    int n;\n",
    "    std::cin >> n;\n",
    "    std::cout << n*n << \"\\n\";\n",
    "}"
   ]
  },
  {
   "cell_type": "code",
   "execution_count": 11,
   "metadata": {},
   "outputs": [],
   "source": [
    "%%bash\n",
    "\n",
    "g++ square.cpp -o square.exe"
   ]
  },
  {
   "cell_type": "code",
   "execution_count": 12,
   "metadata": {},
   "outputs": [
    {
     "name": "stdout",
     "output_type": "stream",
     "text": [
      "Writing square_1.cpp\n"
     ]
    }
   ],
   "source": [
    "%%file square_1.cpp\n",
    "\n",
    "#include <iostream>\n",
    "\n",
    "int main(int argc, char** argv) {\n",
    "    int n = atoi(argv[1]);\n",
    "    std::cout << n*n << \"\\n\";\n",
    "}"
   ]
  },
  {
   "cell_type": "code",
   "execution_count": 13,
   "metadata": {},
   "outputs": [],
   "source": [
    "%%bash\n",
    "\n",
    "g++ square_1.cpp -o square_1.exe"
   ]
  },
  {
   "cell_type": "code",
   "execution_count": 15,
   "metadata": {},
   "outputs": [
    {
     "name": "stdout",
     "output_type": "stream",
     "text": [
      "25\n"
     ]
    }
   ],
   "source": [
    "%%bash\n",
    "\n",
    "./square_1.exe 5"
   ]
  },
  {
   "cell_type": "markdown",
   "metadata": {},
   "source": [
    "**3**.\n",
    "\n",
    "Use loops to generate the 12 by 12 times table. Compile and run. You don't have to worry much about formatting, but the output should have 12 rows with numbers separated by spaces."
   ]
  },
  {
   "cell_type": "code",
   "execution_count": 24,
   "metadata": {},
   "outputs": [
    {
     "name": "stdout",
     "output_type": "stream",
     "text": [
      "Overwriting table.cpp\n"
     ]
    }
   ],
   "source": [
    "%%file table.cpp\n",
    "\n",
    "#include <iostream>\n",
    "using std::cout;\n",
    "\n",
    "int main() {\n",
    "    for (int i=1; i<=12; i++) {\n",
    "        for (int j=1; j<=12; j++) {\n",
    "            cout << i*j << \"\\t\";\n",
    "        }\n",
    "        cout << \"\\n\";\n",
    "    }\n",
    "}"
   ]
  },
  {
   "cell_type": "code",
   "execution_count": 25,
   "metadata": {},
   "outputs": [
    {
     "name": "stdout",
     "output_type": "stream",
     "text": [
      "1\t2\t3\t4\t5\t6\t7\t8\t9\t10\t11\t12\t\n",
      "2\t4\t6\t8\t10\t12\t14\t16\t18\t20\t22\t24\t\n",
      "3\t6\t9\t12\t15\t18\t21\t24\t27\t30\t33\t36\t\n",
      "4\t8\t12\t16\t20\t24\t28\t32\t36\t40\t44\t48\t\n",
      "5\t10\t15\t20\t25\t30\t35\t40\t45\t50\t55\t60\t\n",
      "6\t12\t18\t24\t30\t36\t42\t48\t54\t60\t66\t72\t\n",
      "7\t14\t21\t28\t35\t42\t49\t56\t63\t70\t77\t84\t\n",
      "8\t16\t24\t32\t40\t48\t56\t64\t72\t80\t88\t96\t\n",
      "9\t18\t27\t36\t45\t54\t63\t72\t81\t90\t99\t108\t\n",
      "10\t20\t30\t40\t50\t60\t70\t80\t90\t100\t110\t120\t\n",
      "11\t22\t33\t44\t55\t66\t77\t88\t99\t110\t121\t132\t\n",
      "12\t24\t36\t48\t60\t72\t84\t96\t108\t120\t132\t144\t\n"
     ]
    }
   ],
   "source": [
    "%%bash\n",
    "\n",
    "g++ table.cpp -o table.exe\n",
    "./table.exe"
   ]
  },
  {
   "cell_type": "markdown",
   "metadata": {},
   "source": [
    "**4**.\n",
    "\n",
    "Write a C++ program that uses a function to calculate the 10th Fibonacci number."
   ]
  },
  {
   "cell_type": "code",
   "execution_count": 33,
   "metadata": {},
   "outputs": [
    {
     "name": "stdout",
     "output_type": "stream",
     "text": [
      "Overwriting fib.cpp\n"
     ]
    }
   ],
   "source": [
    "%%file fib.cpp\n",
    "\n",
    "#include <iostream>\n",
    "using std::cout;\n",
    "        \n",
    "long fib(int n) {\n",
    "    int a = 0, b = 1;\n",
    "    int tmp;\n",
    "    for (int i=0; i<n; i++) {\n",
    "        tmp = a;\n",
    "        a = b;\n",
    "        b = tmp + b;\n",
    "    }\n",
    "    return a;\n",
    "}\n",
    "\n",
    "int main() {\n",
    "    cout << fib(10) << \"\\n\";\n",
    "}"
   ]
  },
  {
   "cell_type": "code",
   "execution_count": 34,
   "metadata": {},
   "outputs": [
    {
     "name": "stdout",
     "output_type": "stream",
     "text": [
      "55\n"
     ]
    }
   ],
   "source": [
    "%%bash\n",
    "\n",
    "g++ fib.cpp -o fib.exe\n",
    "./fib.exe"
   ]
  },
  {
   "cell_type": "markdown",
   "metadata": {},
   "source": [
    "**5**.\n",
    "\n",
    "Write a C++ program that implements a map(func, xs) function where xs is an vector of integers and func is any function that takes an integer and returns another integer. Map should return an vector of integers. Test it on a vector [1,2,3,4] and an anonymous function that adds 3 to its input argument."
   ]
  },
  {
   "cell_type": "code",
   "execution_count": 53,
   "metadata": {},
   "outputs": [
    {
     "name": "stdout",
     "output_type": "stream",
     "text": [
      "Overwriting map.cpp\n"
     ]
    }
   ],
   "source": [
    "%%file map.cpp\n",
    "\n",
    "#include <iostream>\n",
    "#include <vector>\n",
    "#include <functional>\n",
    "\n",
    "using std::cout;\n",
    "using std::vector;\n",
    "using std::function;\n",
    "        \n",
    "using func = function<int(int)>;\n",
    "\n",
    "auto add3 = [](int x){ return x+3; };\n",
    "\n",
    "vector<int> map(vector<int> xs, func f) {\n",
    "    vector<int> res;\n",
    "    for (auto it=xs.begin(); it!=xs.end(); it++) {\n",
    "        res.push_back(f(*it));\n",
    "    }\n",
    "    return res;\n",
    "}\n",
    "\n",
    "int main() {\n",
    "    vector<int> xs = {1,2,3,4};\n",
    "    vector<int> res = map(xs, add3);\n",
    "    for (auto it=res.begin(); it!=res.end(); it++) {\n",
    "        cout << *it << \" \";\n",
    "    }\n",
    "    cout << \"\\n\";    \n",
    "}"
   ]
  },
  {
   "cell_type": "code",
   "execution_count": 54,
   "metadata": {},
   "outputs": [
    {
     "name": "stdout",
     "output_type": "stream",
     "text": [
      "4 5 6 7 \n"
     ]
    }
   ],
   "source": [
    "%%bash\n",
    "\n",
    "g++ map.cpp -o map.exe -std=c++14\n",
    "./map.exe"
   ]
  },
  {
   "cell_type": "markdown",
   "metadata": {},
   "source": [
    "**6**.\n",
    "\n",
    "Generate 100 numbers from $N(100, 15)$ in C++. Write to a plain text file."
   ]
  },
  {
   "cell_type": "code",
   "execution_count": 55,
   "metadata": {},
   "outputs": [
    {
     "name": "stdout",
     "output_type": "stream",
     "text": [
      "Overwriting random.cpp\n"
     ]
    }
   ],
   "source": [
    "%%file random.cpp\n",
    "\n",
    "#include <iostream>\n",
    "#include <fstream>\n",
    "#include <random>\n",
    "#include <functional>\n",
    "\n",
    "using std::cout;\n",
    "using std::endl;\n",
    "using std::ofstream;\n",
    "        \n",
    "using std::default_random_engine;\n",
    "using std::normal_distribution;\n",
    "using std::bind;\n",
    "        \n",
    "// start random number engine with fixed seed\n",
    "default_random_engine re{12345};\n",
    "\n",
    "normal_distribution<double> norm(100, 15); // mean and standard deviation\n",
    "auto rnorm = bind(norm, re);  \n",
    "\n",
    "int main() {\n",
    "    ofstream fout(\"norm_data.txt\");\n",
    "    \n",
    "    for (int i=0; i<100; i++) {\n",
    "        fout << rnorm() << \"\\n\";\n",
    "    }\n",
    "}"
   ]
  },
  {
   "cell_type": "code",
   "execution_count": 56,
   "metadata": {},
   "outputs": [],
   "source": [
    "%%bash\n",
    "\n",
    "g++ random.cpp -o random.exe -std=c++14\n",
    "./random.exe"
   ]
  },
  {
   "cell_type": "code",
   "execution_count": 58,
   "metadata": {},
   "outputs": [
    {
     "name": "stdout",
     "output_type": "stream",
     "text": [
      "101.293\r\n",
      "102.529\r\n",
      "124.156\r\n"
     ]
    }
   ],
   "source": [
    "! head -n3 norm_data.txt"
   ]
  },
  {
   "cell_type": "markdown",
   "metadata": {},
   "source": [
    "**7**.\n",
    "\n",
    "Implement Newton's method in 1D for root finding. Pass in the function and gradient as generalized function pointers. Use the method to find all roots of the polynomial equation $f(x) = x^3 - 7x - 6$"
   ]
  },
  {
   "cell_type": "code",
   "execution_count": null,
   "metadata": {},
   "outputs": [],
   "source": []
  },
  {
   "cell_type": "code",
   "execution_count": null,
   "metadata": {},
   "outputs": [],
   "source": []
  },
  {
   "cell_type": "markdown",
   "metadata": {},
   "source": [
    "**8**.\n",
    "\n",
    "Use the armadillo library to\n",
    "\n",
    "- Generate 10 x-coordinates linearly spaced between 10 and 15\n",
    "- Generate 10 random y-values as $y = 3x^2 - 7x + 2 + \\epsilon$ where $\\epsilon \\sim 10 N(0,1)$\n",
    "- Find the length of $x$ and $y$ and the Euclidean distance between $x$ and $y$\n",
    "- Find the correlation between $x$ and $y$\n",
    "- Solve the linear system to find a quadratic fit for this data"
   ]
  },
  {
   "cell_type": "code",
   "execution_count": null,
   "metadata": {},
   "outputs": [],
   "source": []
  }
 ],
 "metadata": {
  "kernelspec": {
   "display_name": "Python 3",
   "language": "python",
   "name": "python3"
  },
  "language_info": {
   "codemirror_mode": {
    "name": "ipython",
    "version": 3
   },
   "file_extension": ".py",
   "mimetype": "text/x-python",
   "name": "python",
   "nbconvert_exporter": "python",
   "pygments_lexer": "ipython3",
   "version": "3.7.0"
  }
 },
 "nbformat": 4,
 "nbformat_minor": 2
}
